{
 "cells": [
  {
   "cell_type": "markdown",
   "id": "7c4c44c8",
   "metadata": {},
   "source": [
    "## MOSAIKS feature extraction\n",
    "\n",
    "This tutorial demonstrates the **MOSAIKS** method for extracting _feature vectors_ from satellite imagery patches for use in downstream modeling tasks. It will show:\n",
    "- How to extract 1km$^2$ patches of Sentinel 2 multispectral imagery for a list of latitude, longitude points\n",
    "- How to extract summary features from each of these imagery patches\n",
    "- How to use the summary features in a linear model of the population density at each point\n",
    "\n",
    "### Background\n",
    "\n",
    "Consider the case where you have a dataset of latitude and longitude points assosciated with some dependent variable (for example: population density, weather, housing prices, biodiversity) and, potentially, other independent variables. You would like to model the dependent variable as a function of the independent variables, but instead of including latitude and longitude directly in this model, you would like to include some high dimensional representation of what the Earth looks like at that point (that hopefully explains some of the variance in the dependent variable!). From the computer vision literature, there are various [representation learning techniques](https://en.wikipedia.org/wiki/Feature_learning) that can be used to do this, i.e. extract _features vectors_ from imagery. This notebook gives an implementation of the technique described in [Rolf et al. 2021](https://www.nature.com/articles/s41467-021-24638-z), \"A generalizable and accessible approach to machine learning with global satellite imagery\" called Multi-task Observation using Satellite Imagery & Kitchen Sinks (**MOSAIKS**). For more information about **MOSAIKS** see the [project's webpage](http://www.globalpolicy.science/mosaiks).\n",
    "\n",
    "\n",
    "**Notes**:\n",
    "- This example uses [Sentinel-2 Level-2A data](https://planetarycomputer.microsoft.com/dataset/sentinel-2-l2a). The techniques used here apply equally well to other remote-sensing datasets.\n",
    "- If you're running this on the [Planetary Computer Hub](http://planetarycomputer.microsoft.com/compute), make sure to choose the **GPU - PyTorch** profile when presented with the form to choose your environment."
   ]
  },
  {
   "cell_type": "code",
   "execution_count": null,
   "id": "b1d60ad4",
   "metadata": {},
   "outputs": [],
   "source": [
    "!pip install -q git+https://github.com/geopandas/dask-geopandas"
   ]
  },
  {
   "cell_type": "markdown",
   "id": "b480ca95-53d2-4628-8ecd-d8f6184262a9",
   "metadata": {},
   "source": [
    "Install [python-cmr](https://github.com/nasa/python_cmr) for `import cmr`"
   ]
  },
  {
   "cell_type": "code",
   "execution_count": null,
   "id": "72618f77-035f-4809-afa8-24c2201c4d3a",
   "metadata": {},
   "outputs": [],
   "source": [
    "!pip install -q python-cmr"
   ]
  },
  {
   "cell_type": "markdown",
   "id": "04e830fc-7e43-4108-8feb-2b7fe7837b48",
   "metadata": {},
   "source": [
    "Import modules"
   ]
  },
  {
   "cell_type": "code",
   "execution_count": null,
   "id": "ab74cb2f",
   "metadata": {},
   "outputs": [],
   "source": [
    "import warnings\n",
    "import time\n",
    "import os\n",
    "\n",
    "RASTERIO_BEST_PRACTICES = dict(  # See https://github.com/pangeo-data/cog-best-practices\n",
    "    CURL_CA_BUNDLE=\"/etc/ssl/certs/ca-certificates.crt\",\n",
    "    GDAL_DISABLE_READDIR_ON_OPEN=\"EMPTY_DIR\",\n",
    "    AWS_NO_SIGN_REQUEST=\"YES\",\n",
    "    GDAL_MAX_RAW_BLOCK_CACHE_SIZE=\"200000000\",\n",
    "    GDAL_SWATH_SIZE=\"200000000\",\n",
    "    VSI_CURL_CACHE_SIZE=\"200000000\",\n",
    ")\n",
    "os.environ.update(RASTERIO_BEST_PRACTICES)\n",
    "\n",
    "import numpy as np\n",
    "import pandas as pd\n",
    "import matplotlib.pyplot as plt\n",
    "\n",
    "import torch\n",
    "import torch.nn as nn\n",
    "import torch.nn.functional as F\n",
    "from torch.utils.data import Dataset, DataLoader\n",
    "\n",
    "import rasterio\n",
    "import rasterio.warp\n",
    "import rasterio.mask\n",
    "import shapely.geometry\n",
    "import geopandas\n",
    "import dask_geopandas\n",
    "from sklearn.linear_model import RidgeCV\n",
    "from sklearn.model_selection import train_test_split\n",
    "from sklearn.metrics import r2_score\n",
    "from scipy.stats import spearmanr\n",
    "from scipy.linalg import LinAlgWarning\n",
    "from dask.distributed import Client\n",
    "\n",
    "warnings.filterwarnings(action=\"ignore\", category=LinAlgWarning, module=\"sklearn\")\n",
    "\n",
    "import pystac_client\n",
    "import planetary_computer as pc\n",
    "\n",
    "import datetime\n",
    "import rasterio.features\n",
    "from rasterio.windows import Window\n",
    "from pyproj import Transformer        \n",
    "\n",
    "from azure.storage.blob import ContainerClient\n",
    "from cmr import GranuleQuery\n",
    "\n",
    "from lxml import etree\n",
    "import unicodedata"
   ]
  },
  {
   "cell_type": "markdown",
   "id": "83d5c33b-982c-4e18-bfc3-a8ef77b496d3",
   "metadata": {},
   "source": [
    "## Setup paramaters"
   ]
  },
  {
   "cell_type": "code",
   "execution_count": null,
   "id": "ba64e593-acf7-4971-b0a2-d361ebc62df8",
   "metadata": {},
   "outputs": [],
   "source": [
    "query_lon = 15\n",
    "query_lat = 0\n",
    "\n",
    "sensor_short_name = 'tm'\n",
    "# sensor_short_name = 'mss'\n",
    "\n",
    "if sensor_short_name == 'tm':\n",
    "    query_short_name = 'Landsat4-5_TM_C1'\n",
    "    query_start_date = datetime.datetime(1982, 1, 1, 0, 0, 0)\n",
    "    query_end_date   = datetime.datetime(2012, 12, 1, 0, 0, 0)\n",
    "    rgb_bands        = ['B3','B2','B1']\n",
    "else:\n",
    "    assert sensor_short_name == 'mss'\n",
    "    query_short_name = 'Landsat1-5_MSS_C1'\n",
    "    query_start_date = datetime.datetime(1972, 1, 1, 0, 0, 0)\n",
    "    query_end_date   = datetime.datetime(2013, 12, 1, 0, 0, 0)\n",
    "    rgb_bands        = ['B5','B4','B6']\n",
    "\n",
    "# Maps instrument names as they appear in CMR results to the short names used in filenames\n",
    "instrument_mapping = {\n",
    "    'Landsat 4-5 Thematic Mapper Collection 1 V1':'tm',\n",
    "    'Landsat 1-5 Multispectral Scanner (MSS) Collection 1 V1':'mss'}\n",
    "\n",
    "# Normalization value for rendering\n",
    "composite_norm_value = 25000\n",
    "        \n",
    "# Select a thumbnail for thumbnail rendering (six are available for Landsat C2 files)\n",
    "thumbnail_index = -3\n",
    "        \n",
    "# When rendering whole images, how much should we downscale?\n",
    "dsfactor = 10\n",
    "\n",
    "# We're going to render a nice image at the end, set the size and \"zoom\"\n",
    "target_size = [800,400]\n",
    "oversample = 3.0"
   ]
  },
  {
   "cell_type": "markdown",
   "id": "e0b8597e-2c86-4637-9330-4550f1c7ff86",
   "metadata": {},
   "source": [
    "## Connect to Azure storage blob\n",
    "Landsat data is not yet hosted on Planetary Computer STAC Catalog. Instead it is being staged in the following storage blob which can be accessed with a shared access signature (SAS) token."
   ]
  },
  {
   "cell_type": "code",
   "execution_count": null,
   "id": "331e08a8-6832-4e9d-a449-0cea86268add",
   "metadata": {},
   "outputs": [],
   "source": [
    "# Generate a new token to use\n",
    "sas_token = pc.sas.get_token(\"landsateuwest\", \"landsat-c2\").token\n",
    "\n",
    "# Storage blob account \n",
    "storage_account_name = 'landsateuwest'\n",
    "\n",
    "# Storage container on blob \n",
    "container_name = 'landsat-c2'\n",
    "\n",
    "# Full url\n",
    "storage_account_url = 'https://' + storage_account_name + '.blob.core.windows.net/'\n",
    "\n",
    "# Create container client\n",
    "container_client = ContainerClient(\n",
    "    account_url    = storage_account_url,\n",
    "    container_name = container_name,\n",
    "    credential     = sas_token)"
   ]
  },
  {
   "cell_type": "markdown",
   "id": "deb3827a-21f2-4477-b682-549100f4ff45",
   "metadata": {},
   "source": [
    "## Search for granules\n",
    "Later we're going to work with json-formatted results, and this is also a fast way to get the total number of results, so we'll fetch these, then set them aside for a bit while we make a second query to get cloud cover information, which is only available in the xml results.\n",
    "\n"
   ]
  },
  {
   "cell_type": "code",
   "execution_count": null,
   "id": "de60c7e3-7a5f-4ea8-85e1-764f5880db28",
   "metadata": {},
   "outputs": [],
   "source": [
    "api = GranuleQuery()\n",
    "json_granules = (api.short_name(query_short_name)\n",
    "                 .point(query_lon,query_lat)\n",
    "                 .temporal(query_start_date, query_end_date)\n",
    "                 .get())\n",
    "\n",
    "print('Found {} granules'.format(len(json_granules)))"
   ]
  },
  {
   "cell_type": "markdown",
   "id": "6bafaef3-8cf5-475c-af86-3984cc7e8669",
   "metadata": {},
   "source": [
    "## Retrieve xml-formatted metadata\n",
    "Retrieve results in echo10 format, which is less convenient than the default .json, but includes cloud cover information, which the .json results don't (for Landsat)\n",
    "\n",
    "[NASA JPL Granule] (https://airs.jpl.nasa.gov/data/about-the-data/granules/)\n",
    "\n",
    "Query data for the \"tm\" sensor at our chosen coordinated within our time frame and put results in a list"
   ]
  },
  {
   "cell_type": "code",
   "execution_count": null,
   "id": "1b5febe3-7629-4e52-8fa9-ed9bfad1a8b0",
   "metadata": {},
   "outputs": [],
   "source": [
    "api = GranuleQuery()\n",
    "api.parameters(\n",
    "    short_name = query_short_name,\n",
    "    point = (query_lon, query_lat),\n",
    "    temporal = (query_start_date, query_end_date)\n",
    ")\n",
    "xml_results = api.format('echo10').get(len(json_granules))"
   ]
  },
  {
   "cell_type": "code",
   "execution_count": null,
   "id": "aea66953-b8a1-4373-922e-b031ab12921c",
   "metadata": {},
   "outputs": [],
   "source": [
    "xml_results"
   ]
  },
  {
   "cell_type": "markdown",
   "id": "e846eb6c-b560-421b-9307-42030b627491",
   "metadata": {},
   "source": [
    "Use the list of xml results to get associated metadata"
   ]
  },
  {
   "cell_type": "code",
   "execution_count": null,
   "id": "f0410f5f-b639-4cc6-b35d-4b78942966e2",
   "metadata": {},
   "outputs": [],
   "source": [
    "xml = xml_results[0]\n",
    "xml = unicodedata.normalize('NFKD', xml).encode('ascii', 'ignore')\n",
    "tree = etree.fromstring(xml)\n",
    "xml_granules = tree.findall(\"result/Granule\")\n",
    "\n",
    "lowest_cloud_cover = None\n",
    "granule_name = None\n",
    "\n",
    "for granule in xml_granules:\n",
    "    attributes = granule.find('AdditionalAttributes')\n",
    "    for a in attributes:\n",
    "        name = a.find('Name').text\n",
    "        if name == 'LandCloudCover' or name == 'LandCloudCoverPct':\n",
    "            cc = float(a.find('Values').find('Value').text)\n",
    "            if lowest_cloud_cover is None or cc < lowest_cloud_cover:\n",
    "                lowest_cloud_cover = cc\n",
    "                granule_name = granule.find('GranuleUR').text\n",
    "            break"
   ]
  },
  {
   "cell_type": "markdown",
   "id": "b66a1a02-61cc-4ef6-a280-abbbd16c73b4",
   "metadata": {},
   "source": [
    "## Select the granule with the lowest cloud cover"
   ]
  },
  {
   "cell_type": "code",
   "execution_count": null,
   "id": "77647f49-6bcf-4dec-85d5-bad2ff199d39",
   "metadata": {},
   "outputs": [],
   "source": [
    "# Find the json-formatted granule with the same name\n",
    "granule = [g for g in json_granules if g['title'] == granule_name]\n",
    "assert len(granule) == 1\n",
    "granule = granule[0]\n",
    "\n",
    "# E.g. 'LE07_L1TP_074086_20200328_20200424_01_T1'\n",
    "granule_id = granule['title']\n",
    "print('Accessing tile {}'.format(granule_id))"
   ]
  },
  {
   "cell_type": "markdown",
   "id": "c18506dd-e01f-48ef-956b-418915c5079f",
   "metadata": {},
   "source": [
    "## Map this to our Azure blob paths"
   ]
  },
  {
   "cell_type": "code",
   "execution_count": null,
   "id": "0fcb0a18-092e-4ff2-af2c-56ee0d701333",
   "metadata": {},
   "outputs": [],
   "source": [
    "if 'MSS' in query_short_name:\n",
    "    level = 'level-1'\n",
    "else:\n",
    "    level = 'level-2'\n",
    "    \n",
    "category = 'standard'\n",
    "sensor = instrument_mapping[granule['dataset_id']]\n",
    "\n",
    "# E.g., 2020-01-03T19:01:46.557Z\n",
    "date = granule['time_start']\n",
    "year = date[0:4]\n",
    "month = date[5:7]\n",
    "day = date[8:10]\n",
    "\n",
    "path = granule_id[10:13]\n",
    "row = granule_id[13:16]\n",
    "\n",
    "row_folder = '/'.join([level,category,sensor,year,path,row])\n",
    "\n",
    "# E.g. 01152004\n",
    "granule_date_string = granule_id[11:19]\n",
    "\n",
    "granule_month = granule_date_string[0:2]\n",
    "granule_day = granule_date_string[2:4]\n",
    "granule_year = granule_date_string[4:8]\n",
    "\n",
    "# E.g. LC08_L1TP_047027_20200103\n",
    "scene_prefix = granule_id[0:25]\n",
    "\n",
    "# E.g. LC08_L2SP_047027_20200103\n",
    "scene_prefix = scene_prefix[0:5] + 'L2SP' + scene_prefix[9:]\n",
    "\n",
    "azure_scene_prefix = row_folder + '/' + scene_prefix"
   ]
  },
  {
   "cell_type": "markdown",
   "id": "40506d98-0ef6-4c20-b236-2cd8749aa9d8",
   "metadata": {},
   "source": [
    "## Enumerate image files"
   ]
  },
  {
   "cell_type": "code",
   "execution_count": null,
   "id": "18b79c20-b8d0-4189-b819-a388af2d3f4e",
   "metadata": {},
   "outputs": [],
   "source": [
    "generator = container_client.list_blobs(name_starts_with=azure_scene_prefix)\n",
    "image_paths = [blob.name for blob in generator if blob.name.endswith('.TIF')]\n",
    "\n",
    "print('Found {} images:'.format(len(image_paths)))\n",
    "for fn in image_paths:\n",
    "    print(fn.split('/')[-1])"
   ]
  },
  {
   "cell_type": "markdown",
   "id": "fede9c4f-4678-458d-97f6-f81f8852a84b",
   "metadata": {},
   "source": [
    "## Convert to Azure URLs"
   ]
  },
  {
   "cell_type": "code",
   "execution_count": null,
   "id": "4aa335f8-317d-4309-b3ec-656e62fb80a8",
   "metadata": {},
   "outputs": [],
   "source": [
    "azure_urls = [storage_account_url + container_name + '/' + p + sas_token for p in image_paths]"
   ]
  },
  {
   "cell_type": "markdown",
   "id": "26d9a9d5-73ef-468e-819d-368c1058c209",
   "metadata": {},
   "source": [
    "## Choose bands for an RGB composite"
   ]
  },
  {
   "cell_type": "code",
   "execution_count": null,
   "id": "6701a546-6d29-4b85-b82e-c1196cc07882",
   "metadata": {},
   "outputs": [],
   "source": [
    "# From https://www.usgs.gov/media/images/common-landsat-band-rgb-composites\n",
    "rgb_bands = ['B3','B2','B1']\n",
    "rgb_urls = []\n",
    "for band_name in rgb_bands:\n",
    "    rgb_urls.append([s for s in azure_urls if band_name + '.TIF' in s][0])"
   ]
  },
  {
   "cell_type": "markdown",
   "id": "7cbe154b-6a56-479c-b9ec-5d8e7961fc37",
   "metadata": {},
   "source": [
    "## Render previews without reading the whole file"
   ]
  },
  {
   "cell_type": "code",
   "execution_count": null,
   "id": "46573bfd-c4c3-4e04-a382-17e9499b750c",
   "metadata": {},
   "outputs": [],
   "source": [
    "thumbnail_data = []\n",
    "\n",
    "# url = rgb_urls[0]\n",
    "for url in rgb_urls:\n",
    "    \n",
    "    # From:\n",
    "    #\n",
    "    # https://automating-gis-processes.github.io/CSC/notebooks/L5/read-cogs.html\n",
    "    with rasterio.open(url) as raster:\n",
    "        \n",
    "        # List of overviews from biggest to smallest\n",
    "        oviews = raster.overviews(1)\n",
    "    \n",
    "        # Retrieve a small-ish thumbnail (six are available for Landsat files)\n",
    "        decimation_level = oviews[thumbnail_index]\n",
    "        h = int(raster.height/decimation_level)\n",
    "        w = int(raster.width/decimation_level)\n",
    "        \n",
    "        thumbnail_channel = raster.read(1, out_shape=(1, h, w)) / composite_norm_value\n",
    "        thumbnail_data.append(thumbnail_channel)\n",
    "\n",
    "rgb = np.dstack((thumbnail_data[0],thumbnail_data[1],thumbnail_data[2]))\n",
    "np.clip(rgb,0,1,rgb)\n",
    "\n",
    "dpi = 100; fig = plt.figure(frameon=False,figsize=(w/dpi,h/dpi),dpi=dpi)\n",
    "ax = plt.Axes(fig,[0., 0., 1., 1.]); ax.set_axis_off(); fig.add_axes(ax)\n",
    "\n",
    "plt.imshow(rgb);"
   ]
  },
  {
   "cell_type": "markdown",
   "id": "03446a6b-4558-4d96-aa71-8f0fcb1f79b0",
   "metadata": {},
   "source": [
    "## Render composite image"
   ]
  },
  {
   "cell_type": "code",
   "execution_count": null,
   "id": "2130cb7d-d3be-4af4-b692-97c8f9566e18",
   "metadata": {},
   "outputs": [],
   "source": [
    "image_data = []\n",
    "\n",
    "for fn in rgb_urls:\n",
    "    with rasterio.open(fn,'r') as raster:\n",
    "        h = int(raster.height/dsfactor)\n",
    "        w = int(raster.width/dsfactor)\n",
    "        band_array = raster.read(1, out_shape=(1, h, w))\n",
    "        raster.close()\n",
    "        band_array = band_array / composite_norm_value\n",
    "        image_data.append(band_array)\n",
    "\n",
    "rgb = np.dstack((image_data[0],image_data[1],image_data[2]))\n",
    "np.clip(rgb,0,1,rgb)\n",
    "\n",
    "dpi = 100; fig = plt.figure(frameon=False,figsize=(w/dpi,h/dpi),dpi=dpi)\n",
    "ax = plt.Axes(fig,[0., 0., 1., 1.]); ax.set_axis_off(); fig.add_axes(ax)\n",
    "\n",
    "plt.imshow(rgb);"
   ]
  },
  {
   "cell_type": "markdown",
   "id": "5d7fe8ba-4b5c-49e0-9e07-0abc30641335",
   "metadata": {},
   "source": [
    "## Crop a region"
   ]
  },
  {
   "cell_type": "code",
   "execution_count": null,
   "id": "1e036627-a66d-4a08-9c2e-a779e1125394",
   "metadata": {},
   "outputs": [],
   "source": [
    "image_data = []\n",
    "\n",
    "for fn in rgb_urls:\n",
    "    \n",
    "    with rasterio.open(fn,'r') as src:\n",
    "        \n",
    "        # Choose the target image size\n",
    "        xsize = (target_size[0] * oversample)\n",
    "        ysize = (target_size[1] * oversample)\n",
    "        \n",
    "        # Find the transformation from pixels to lat/lon\n",
    "        transformer = Transformer.from_crs('EPSG:4326', src.crs, always_xy=True)\n",
    "        xx, yy = transformer.transform(query_lon, query_lat)\n",
    "        py, px = src.index(xx,yy)\n",
    "        xoff = px - xsize // 2 \n",
    "        yoff = py - ysize // 2 \n",
    "        window = Window(xoff,yoff,xsize,ysize)\n",
    "        \n",
    "        band_array = src.read(1, window=window)\n",
    "        src.close()\n",
    "        band_array = band_array / composite_norm_value\n",
    "        image_data.append(band_array)\n",
    "\n",
    "    # ...with rasterio.open()\n",
    "    \n",
    "# ...for each file\n",
    "    \n",
    "rgb = np.dstack((image_data[0],image_data[1],image_data[2]))\n",
    "np.clip(rgb,0,1,rgb)\n",
    "\n",
    "w = target_size[0]\n",
    "h = target_size[1]\n",
    "\n",
    "dpi = 50; fig = plt.figure(frameon=False,figsize=(w/dpi,h/dpi),dpi=dpi)\n",
    "ax = plt.Axes(fig,[0., 0., 1., 1.]); ax.set_axis_off(); fig.add_axes(ax)\n",
    "\n",
    "plt.imshow(rgb);"
   ]
  },
  {
   "cell_type": "code",
   "execution_count": null,
   "id": "77f103f5-74a1-4242-bebf-23795232009f",
   "metadata": {},
   "outputs": [],
   "source": []
  },
  {
   "cell_type": "code",
   "execution_count": null,
   "id": "63f04bab-5aa8-4db0-bf9a-1c029a36cf20",
   "metadata": {},
   "outputs": [],
   "source": []
  },
  {
   "cell_type": "code",
   "execution_count": null,
   "id": "2f676555-4bb0-4139-a33b-7960a7d07c1a",
   "metadata": {},
   "outputs": [],
   "source": []
  },
  {
   "cell_type": "code",
   "execution_count": null,
   "id": "6d87536f-cb47-441b-8d2e-70137e5e0984",
   "metadata": {},
   "outputs": [],
   "source": []
  },
  {
   "cell_type": "code",
   "execution_count": null,
   "id": "eb10ed20-c114-45fd-9e3e-968ac7633cfd",
   "metadata": {},
   "outputs": [],
   "source": []
  },
  {
   "cell_type": "code",
   "execution_count": null,
   "id": "e7353103-18a8-4915-96ac-98f14e6fb489",
   "metadata": {},
   "outputs": [],
   "source": []
  },
  {
   "cell_type": "code",
   "execution_count": null,
   "id": "27d10f61-513c-44e3-bc4c-f0833d4aaa6b",
   "metadata": {},
   "outputs": [],
   "source": []
  },
  {
   "cell_type": "code",
   "execution_count": null,
   "id": "0771e8d7-e875-4e64-881e-c983ecfc3fda",
   "metadata": {},
   "outputs": [],
   "source": []
  },
  {
   "cell_type": "code",
   "execution_count": null,
   "id": "9ef30d2b-2050-43d4-8c72-cd412e4c540a",
   "metadata": {},
   "outputs": [],
   "source": []
  },
  {
   "cell_type": "code",
   "execution_count": null,
   "id": "67fd00b9-c788-4cec-bc57-8f63b13d6c8d",
   "metadata": {},
   "outputs": [],
   "source": []
  },
  {
   "cell_type": "code",
   "execution_count": null,
   "id": "f30e7359-9321-48c2-bb4e-e9c09b945c75",
   "metadata": {},
   "outputs": [],
   "source": []
  },
  {
   "cell_type": "code",
   "execution_count": null,
   "id": "3b2ef91d-0cc0-4c26-bc99-83f61d1e510c",
   "metadata": {},
   "outputs": [],
   "source": []
  },
  {
   "cell_type": "markdown",
   "id": "e372135a",
   "metadata": {},
   "source": [
    "First we define the pytorch model that we will use to extract the features and a helper method. The **MOSAIKS** methodology describes several ways to do this and we use the simplest."
   ]
  },
  {
   "cell_type": "code",
   "execution_count": null,
   "id": "e13c154a",
   "metadata": {},
   "outputs": [],
   "source": [
    "def featurize(input_img, model, device):\n",
    "    \"\"\"Helper method for running an image patch through the model.\n",
    "\n",
    "    Args:\n",
    "        input_img (np.ndarray): Image in (C x H x W) format with a dtype of uint8.\n",
    "        model (torch.nn.Module): Feature extractor network\n",
    "    \"\"\"\n",
    "    assert len(input_img.shape) == 3\n",
    "    input_img = torch.from_numpy(input_img / 255.0).float()\n",
    "    input_img = input_img.to(device)\n",
    "    with torch.no_grad():\n",
    "        feats = model(input_img.unsqueeze(0)).cpu().numpy()\n",
    "    return feats\n",
    "\n",
    "\n",
    "class RCF(nn.Module):\n",
    "    \"\"\"A model for extracting Random Convolution Features (RCF) from input imagery.\"\"\"\n",
    "\n",
    "    def __init__(self, num_features=16, kernel_size=3, num_input_channels=3):\n",
    "        super(RCF, self).__init__()\n",
    "\n",
    "        # We create `num_features / 2` filters so require `num_features` to be divisible by 2\n",
    "        assert num_features % 2 == 0\n",
    "\n",
    "        self.conv1 = nn.Conv2d(\n",
    "            num_input_channels,\n",
    "            num_features // 2,\n",
    "            kernel_size=kernel_size,\n",
    "            stride=1,\n",
    "            padding=0,\n",
    "            dilation=1,\n",
    "            bias=True,\n",
    "        )\n",
    "\n",
    "        nn.init.normal_(self.conv1.weight, mean=0.0, std=1.0)\n",
    "        nn.init.constant_(self.conv1.bias, -1.0)\n",
    "\n",
    "    def forward(self, x):\n",
    "        x1a = F.relu(self.conv1(x), inplace=True)\n",
    "        x1b = F.relu(-self.conv1(x), inplace=True)\n",
    "\n",
    "        x1a = F.adaptive_avg_pool2d(x1a, (1, 1)).squeeze()\n",
    "        x1b = F.adaptive_avg_pool2d(x1b, (1, 1)).squeeze()\n",
    "\n",
    "        if len(x1a.shape) == 1:  # case where we passed a single input\n",
    "            return torch.cat((x1a, x1b), dim=0)\n",
    "        elif len(x1a.shape) == 2:  # case where we passed a batch of > 1 inputs\n",
    "            return torch.cat((x1a, x1b), dim=1)"
   ]
  },
  {
   "cell_type": "markdown",
   "id": "42f303c0",
   "metadata": {},
   "source": [
    "Next, we initialize the model and pytorch components"
   ]
  },
  {
   "cell_type": "code",
   "execution_count": null,
   "id": "60b896be",
   "metadata": {},
   "outputs": [],
   "source": [
    "num_features = 1024\n",
    "\n",
    "device = torch.device(\"cuda\")\n",
    "model = RCF(num_features).eval().to(device)"
   ]
  },
  {
   "cell_type": "markdown",
   "id": "6c804888",
   "metadata": {
    "tags": []
   },
   "source": [
    "### Read dataset of (lat, lon) points and corresponding labels"
   ]
  },
  {
   "cell_type": "markdown",
   "id": "6462a61e",
   "metadata": {},
   "source": [
    "We read a CSV of 100,000 randomly sampled (lat, lon) points over the US and the corresponding population living roughly within 1km$^2$ of the points from the [Gridded Population of the World](https://sedac.ciesin.columbia.edu/downloads/data/gpw-v4/gpw-v4-population-density-rev10/gpw-v4-population-density-rev10_2015_30_sec_tif.zip) dataset. This data comes from the [Code Ocean capsule](https://codeocean.com/capsule/6456296/tree/v2) that accompanies the Rolf et al. 2021 paper."
   ]
  },
  {
   "cell_type": "code",
   "execution_count": null,
   "id": "92ef8030",
   "metadata": {},
   "outputs": [],
   "source": [
    "df = pd.read_csv(\n",
    "    \"https://files.codeocean.com/files/verified/fa908bbc-11f9-4421-8bd3-72a4bf00427f_v2.0/data/int/applications/population/outcomes_sampled_population_CONTUS_16_640_UAR_100000_0.csv?download\",  # noqa: E501\n",
    "    index_col=0,\n",
    "    na_values=[-999],\n",
    ").dropna()\n",
    "points = df[[\"lon\", \"lat\"]]\n",
    "population = df[\"population\"]\n",
    "\n",
    "gdf = geopandas.GeoDataFrame(df, geometry=geopandas.points_from_xy(df.lon, df.lat))\n",
    "gdf"
   ]
  },
  {
   "cell_type": "markdown",
   "id": "cf320a80",
   "metadata": {},
   "source": [
    "Get rid of points with nodata population values"
   ]
  },
  {
   "cell_type": "code",
   "execution_count": null,
   "id": "eba76b98",
   "metadata": {},
   "outputs": [],
   "source": [
    "population.plot.hist();"
   ]
  },
  {
   "cell_type": "markdown",
   "id": "4120a78a",
   "metadata": {},
   "source": [
    "Population is lognormal distributed, so transforming it to log-space makes sense for modeling purposes"
   ]
  },
  {
   "cell_type": "code",
   "execution_count": null,
   "id": "a4877e7f",
   "metadata": {},
   "outputs": [],
   "source": [
    "population_log = np.log10(population + 1)"
   ]
  },
  {
   "cell_type": "code",
   "execution_count": null,
   "id": "c6b4f9d5",
   "metadata": {},
   "outputs": [],
   "source": [
    "population_log.plot.hist();"
   ]
  },
  {
   "cell_type": "code",
   "execution_count": null,
   "id": "605bc1e7",
   "metadata": {},
   "outputs": [],
   "source": [
    "ax = points.assign(population=population_log).plot.scatter(\n",
    "    x=\"lon\",\n",
    "    y=\"lat\",\n",
    "    c=\"population\",\n",
    "    s=1,\n",
    "    cmap=\"viridis\",\n",
    "    figsize=(10, 6),\n",
    "    colorbar=False,\n",
    ")\n",
    "ax.set_axis_off();"
   ]
  },
  {
   "cell_type": "markdown",
   "id": "83e52c4e",
   "metadata": {},
   "source": [
    "### Extract features from the imagery around each point\n",
    "\n",
    "We need to find a suitable Sentinel 2 scene for each point. As usual, we'll use `pystac-client` to search for items matching some conditions, but we don't just want do make a `.search()` call for each of the 67,968 remaining points. Each HTTP request is relatively slow. Instead, we will *batch* or points and search *in parallel*.\n",
    "\n",
    "We need to be a bit careful with how we batch up our points though. Since a single Sentinel 2 scene will cover many points, we want to make sure that points which are spatially close together end up in the same batch. In short, we need to spatially partition the dataset. This is implemented in `dask-geopandas`.\n",
    "\n",
    "So the overall workflow will be\n",
    "\n",
    "1. Find an appropriate STAC item for each point (in parallel, using the spatially partitioned dataset)\n",
    "2. Feed the points and STAC items to a custom Dataset that can read imagery given a point and the URL of a overlapping S2 scene\n",
    "3. Use a custom Dataloader, which uses our Dataset, to feed our model imagery and save the corresponding features"
   ]
  },
  {
   "cell_type": "code",
   "execution_count": null,
   "id": "d9d7aefb",
   "metadata": {},
   "outputs": [],
   "source": [
    "NPARTITIONS = 250\n",
    "\n",
    "ddf = dask_geopandas.from_geopandas(gdf, npartitions=1)\n",
    "hd = ddf.hilbert_distance().compute()\n",
    "gdf[\"hd\"] = hd\n",
    "gdf = gdf.sort_values(\"hd\")\n",
    "\n",
    "dgdf = dask_geopandas.from_geopandas(gdf, npartitions=NPARTITIONS, sort=False)"
   ]
  },
  {
   "cell_type": "markdown",
   "id": "3b6ae053",
   "metadata": {},
   "source": [
    "We'll write a helper function that "
   ]
  },
  {
   "cell_type": "code",
   "execution_count": null,
   "id": "e55349b5",
   "metadata": {},
   "outputs": [],
   "source": [
    "def query(points):\n",
    "    \"\"\"\n",
    "    Find a STAC item for points in the `points` DataFrame\n",
    "\n",
    "    Parameters\n",
    "    ----------\n",
    "    points : geopandas.GeoDataFrame\n",
    "        A GeoDataFrame\n",
    "\n",
    "    Returns\n",
    "    -------\n",
    "    geopandas.GeoDataFrame\n",
    "        A new geopandas.GeoDataFrame with a `stac_item` column containing the STAC\n",
    "        item that covers each point.\n",
    "    \"\"\"\n",
    "    intersects = shapely.geometry.mapping(points.unary_union.convex_hull)\n",
    "    \n",
    "    # https://stacspec.org/\n",
    "    search_start = \"2018-01-01\"\n",
    "    search_end = \"2019-12-31\"\n",
    "    catalog = pystac_client.Client.open(\n",
    "        \"https://planetarycomputer.microsoft.com/api/stac/v1\"\n",
    "    )\n",
    "\n",
    "    # The time frame in which we search for non-cloudy imagery\n",
    "    search = catalog.search(\n",
    "        collections=[\"landsat-c2\"],\n",
    "        intersects=intersects,\n",
    "        datetime=[search_start, search_end],\n",
    "        query={\"eo:cloud_cover\": {\"lt\": 10}},\n",
    "        limit=500,\n",
    "    )\n",
    "    ic = search.get_all_items_as_dict()\n",
    "\n",
    "    features = ic[\"features\"]\n",
    "    features_d = {item[\"id\"]: item for item in features}\n",
    "\n",
    "    data = {\n",
    "        \"eo:cloud_cover\": [],\n",
    "        \"geometry\": [],\n",
    "    }\n",
    "\n",
    "    index = []\n",
    "\n",
    "    for item in features:\n",
    "        data[\"eo:cloud_cover\"].append(item[\"properties\"][\"eo:cloud_cover\"])\n",
    "        data[\"geometry\"].append(shapely.geometry.shape(item[\"geometry\"]))\n",
    "        index.append(item[\"id\"])\n",
    "\n",
    "    items = (\n",
    "        geopandas.GeoDataFrame(data, index=index, geometry=\"geometry\")\n",
    "                 .sort_values(\"eo:cloud_cover\")\n",
    "    )\n",
    "    point_list = points.geometry.tolist()\n",
    "\n",
    "    point_items = []\n",
    "    for point in point_list:\n",
    "        covered_by = items[items.covers(point)]\n",
    "        if len(covered_by):\n",
    "            point_items.append(features_d[covered_by.index[0]])\n",
    "        else:\n",
    "            # There weren't any scenes matching our conditions for this point (too cloudy)\n",
    "            point_items.append(None)\n",
    "\n",
    "    return points.assign(stac_item=point_items)"
   ]
  },
  {
   "cell_type": "code",
   "execution_count": null,
   "id": "5350c952",
   "metadata": {},
   "outputs": [],
   "source": [
    "# %%time\n",
    "\n",
    "# with Client(n_workers=16) as client:\n",
    "#     print(client.dashboard_link)\n",
    "#     meta = dgdf._meta.assign(stac_item=[])\n",
    "#     df2 = dgdf.map_partitions(query, meta=meta).compute()\n",
    "# df2"
   ]
  },
  {
   "cell_type": "code",
   "execution_count": null,
   "id": "3ae31f57-3372-49ff-a8f8-2a4528aa6561",
   "metadata": {},
   "outputs": [],
   "source": [
    "df3 = df2.dropna(subset=[\"stac_item\"])\n",
    "df3"
   ]
  },
  {
   "cell_type": "code",
   "execution_count": null,
   "id": "14eab13c",
   "metadata": {},
   "outputs": [],
   "source": [
    "# df3 = df2.dropna(subset=[\"stac_item\"])\n",
    "\n",
    "matching_urls = [\n",
    "    [pc.sign(item[\"assets\"][\"SR_B5\"][\"href\"]) for item in df3.stac_item.tolist()],\n",
    "    [pc.sign(item[\"assets\"][\"SR_B6\"][\"href\"]) for item in df3.stac_item.tolist()],\n",
    "    [pc.sign(item[\"assets\"][\"SR_B7\"][\"href\"]) for item in df3.stac_item.tolist()]\n",
    "]\n",
    "\n",
    "points = df3[[\"lon\", \"lat\"]].to_numpy()\n",
    "population_log = np.log10(df3[\"population\"].to_numpy() + 1)\n",
    "matching_urls"
   ]
  },
  {
   "cell_type": "code",
   "execution_count": null,
   "id": "26646f38",
   "metadata": {},
   "outputs": [],
   "source": [
    "class CustomDataset(Dataset):\n",
    "    def __init__(self, points, fns, buffer=500):\n",
    "        self.points = points\n",
    "        self.fns = fns\n",
    "        self.buffer = buffer\n",
    "\n",
    "    def __len__(self):\n",
    "        return self.points.shape[0]\n",
    "\n",
    "    def __getitem__(self, idx):\n",
    "\n",
    "        lon, lat = self.points[idx]\n",
    "        fn = self.fns[idx]\n",
    "\n",
    "        if fn is None:\n",
    "            return None\n",
    "        else:\n",
    "            point_geom = shapely.geometry.mapping(shapely.geometry.Point(lon, lat))\n",
    "\n",
    "            with rasterio.Env():\n",
    "                with rasterio.open(fn, \"r\") as f:\n",
    "                    point_geom = rasterio.warp.transform_geom(\n",
    "                        \"epsg:4326\", f.crs.to_string(), point_geom\n",
    "                    )\n",
    "                    point_shape = shapely.geometry.shape(point_geom)\n",
    "                    mask_shape = point_shape.buffer(self.buffer).envelope\n",
    "                    mask_geom = shapely.geometry.mapping(mask_shape)\n",
    "                    try:\n",
    "                        out_image, out_transform = rasterio.mask.mask(\n",
    "                            f, [mask_geom], crop=True\n",
    "                        )\n",
    "                    except ValueError as e:\n",
    "                        if \"Input shapes do not overlap raster.\" in str(e):\n",
    "                            return None\n",
    "\n",
    "            out_image = out_image / 255.0\n",
    "            out_image = torch.from_numpy(out_image).float()\n",
    "            return out_image"
   ]
  },
  {
   "cell_type": "code",
   "execution_count": null,
   "id": "a696ef33",
   "metadata": {},
   "outputs": [],
   "source": [
    "dataset = CustomDataset(points, matching_urls)\n",
    "\n",
    "dataloader = DataLoader(\n",
    "    dataset,\n",
    "    batch_size=8,\n",
    "    shuffle=False,\n",
    "    num_workers=os.cpu_count() * 2,\n",
    "    collate_fn=lambda x: x,\n",
    "    pin_memory=False,\n",
    ")"
   ]
  },
  {
   "cell_type": "code",
   "execution_count": null,
   "id": "b1e1e002",
   "metadata": {},
   "outputs": [],
   "source": [
    "x_all = np.zeros((points.shape[0], num_features), dtype=float)\n",
    "\n",
    "tic = time.time()\n",
    "i = 0\n",
    "for images in dataloader:\n",
    "    for image in images:\n",
    "\n",
    "        if image is not None:\n",
    "            # A full image should be ~101x101 pixels (i.e. ~1km^2 at a 10m/px spatial\n",
    "            # resolution), however we can receive smaller images if an input point\n",
    "            # happens to be at the edge of a S2 scene (a literal edge case). To deal\n",
    "            # with these (edge) cases we crudely drop all images where the spatial\n",
    "            # dimensions aren't both greater than 20 pixels.\n",
    "            if image.shape[1] >= 20 and image.shape[2] >= 20:\n",
    "                image = image.to(device)\n",
    "                with torch.no_grad():\n",
    "                    feats = model(image.unsqueeze(0)).cpu().numpy()\n",
    "\n",
    "                x_all[i] = feats\n",
    "            else:\n",
    "                # this happens if the point is close to the edge of a scene\n",
    "                # (one or both of the spatial dimensions of the image are very small)\n",
    "                pass\n",
    "        else:\n",
    "            pass  # this happens if we do not find a S2 scene for some point\n",
    "\n",
    "        if i % 1000 == 0:\n",
    "            print(\n",
    "                f\"{i}/{points.shape[0]} -- {i / points.shape[0] * 100:0.2f}%\"\n",
    "                + f\" -- {time.time()-tic:0.2f} seconds\"\n",
    "            )\n",
    "            tic = time.time()\n",
    "        i += 1"
   ]
  },
  {
   "cell_type": "markdown",
   "id": "5a8cce22",
   "metadata": {
    "tags": []
   },
   "source": [
    "### Use the extracted features and given labels to model population density as a function of imagery\n",
    "\n",
    "We split the available data 80/20 into train/test. We use a cross-validation approach to tune the regularization parameter of a Ridge regression model, then apply the model to the test data and measure the R2."
   ]
  },
  {
   "cell_type": "code",
   "execution_count": null,
   "id": "be27b418",
   "metadata": {},
   "outputs": [],
   "source": [
    "y_all = population_log.copy()"
   ]
  },
  {
   "cell_type": "code",
   "execution_count": null,
   "id": "099e3a88",
   "metadata": {},
   "outputs": [],
   "source": [
    "x_all.shape, y_all.shape"
   ]
  },
  {
   "cell_type": "markdown",
   "id": "f86a3dd6",
   "metadata": {},
   "source": [
    "And one final masking -- any sample that has all zeros for features means that we were unsuccessful at extracting features for that point."
   ]
  },
  {
   "cell_type": "code",
   "execution_count": null,
   "id": "5a28fad0",
   "metadata": {},
   "outputs": [],
   "source": [
    "nofeature_mask = ~(x_all.sum(axis=1) == 0)"
   ]
  },
  {
   "cell_type": "code",
   "execution_count": null,
   "id": "84ee8ae2",
   "metadata": {},
   "outputs": [],
   "source": [
    "x_all = x_all[nofeature_mask]\n",
    "y_all = y_all[nofeature_mask]"
   ]
  },
  {
   "cell_type": "code",
   "execution_count": null,
   "id": "e8520e69",
   "metadata": {},
   "outputs": [],
   "source": [
    "x_all.shape, y_all.shape"
   ]
  },
  {
   "cell_type": "code",
   "execution_count": null,
   "id": "0580dff8",
   "metadata": {},
   "outputs": [],
   "source": [
    "x_train, x_test, y_train, y_test = train_test_split(\n",
    "    x_all, y_all, test_size=0.2, random_state=0\n",
    ")"
   ]
  },
  {
   "cell_type": "code",
   "execution_count": null,
   "id": "5f3f682c",
   "metadata": {},
   "outputs": [],
   "source": [
    "ridge_cv_random = RidgeCV(cv=5, alphas=np.logspace(-8, 8, base=10, num=17))\n",
    "ridge_cv_random.fit(x_train, y_train)"
   ]
  },
  {
   "cell_type": "code",
   "execution_count": null,
   "id": "3f417356",
   "metadata": {},
   "outputs": [],
   "source": [
    "print(f\"Validation R2 performance {ridge_cv_random.best_score_:0.2f}\")"
   ]
  },
  {
   "cell_type": "code",
   "execution_count": null,
   "id": "6f8acfa6",
   "metadata": {
    "tags": []
   },
   "outputs": [],
   "source": [
    "y_pred = np.maximum(ridge_cv_random.predict(x_test), 0)\n",
    "\n",
    "plt.figure()\n",
    "plt.scatter(y_pred, y_test, alpha=0.2, s=4)\n",
    "plt.xlabel(\"Predicted\", fontsize=15)\n",
    "plt.ylabel(\"Ground Truth\", fontsize=15)\n",
    "plt.title(r\"$\\log_{10}(1 + $people$/$km$^2)$\", fontsize=15)\n",
    "plt.xticks(fontsize=14)\n",
    "plt.yticks(fontsize=14)\n",
    "\n",
    "plt.xlim([0, 6])\n",
    "plt.ylim([0, 6])\n",
    "\n",
    "plt.text(\n",
    "    0.5,\n",
    "    5,\n",
    "    s=\"R$^2$ = %0.2f\" % (r2_score(y_test, y_pred)),\n",
    "    fontsize=15,\n",
    "    fontweight=\"bold\",\n",
    ")\n",
    "m, b = np.polyfit(y_pred, y_test, 1)\n",
    "plt.plot(y_pred, m * y_pred + b, color=\"black\")\n",
    "plt.gca().spines.right.set_visible(False)\n",
    "plt.gca().spines.top.set_visible(False)\n",
    "\n",
    "plt.show()\n",
    "plt.close()"
   ]
  },
  {
   "cell_type": "markdown",
   "id": "fb17f81e",
   "metadata": {},
   "source": [
    "In addition to a R$^2$ value of ~0.55 on the test points, we can see that we have a rank-order correlation (spearman's r) of 0.66."
   ]
  },
  {
   "cell_type": "code",
   "execution_count": null,
   "id": "23655d99",
   "metadata": {},
   "outputs": [],
   "source": [
    "spearmanr(y_pred, y_test)"
   ]
  },
  {
   "cell_type": "markdown",
   "id": "e495f7b6",
   "metadata": {},
   "source": [
    "### Spatial extrapolation\n",
    "\n",
    "In the previous section we split the points randomly and found that our model can _interpolate_ population density with an R2 of 0.55, however this result does not say anything about how well the model will extrapolate. Whenever you are modeling spatio-temporal data it is important to consider what the model is doing as well as the purpose of the model, then evaluate it appropriately. Here, we test how our modeling approach above is able to extrapolate to areas that it has not been trained on. Specifically we train the linear model with data from the _western_ portion of the US then test it on data from the _eastern_ US and interpret the results."
   ]
  },
  {
   "cell_type": "code",
   "execution_count": null,
   "id": "5a03a43b",
   "metadata": {},
   "outputs": [],
   "source": [
    "points = points[nofeature_mask]"
   ]
  },
  {
   "cell_type": "markdown",
   "id": "ef3c8a6e",
   "metadata": {},
   "source": [
    "First we calculate the 80th percentile longitude of the points in our dataset. Points that are to the west of this value will be in our training split and points to the east of this will be in our testing split."
   ]
  },
  {
   "cell_type": "code",
   "execution_count": null,
   "id": "78ee7a41",
   "metadata": {},
   "outputs": [],
   "source": [
    "split_lon = np.percentile(points[:, 0], 80)\n",
    "train_idxs = np.where(points[:, 0] <= split_lon)[0]\n",
    "test_idxs = np.where(points[:, 0] > split_lon)[0]\n",
    "\n",
    "x_train = x_all[train_idxs]\n",
    "x_test = x_all[test_idxs]\n",
    "y_train = y_all[train_idxs]\n",
    "y_test = y_all[test_idxs]"
   ]
  },
  {
   "cell_type": "markdown",
   "id": "01ac0a57",
   "metadata": {},
   "source": [
    "Visually, the split looks like this:"
   ]
  },
  {
   "cell_type": "code",
   "execution_count": null,
   "id": "97e4da02",
   "metadata": {},
   "outputs": [],
   "source": [
    "plt.figure()\n",
    "plt.scatter(points[:, 0], points[:, 1], c=y_all, s=1)\n",
    "plt.vlines(\n",
    "    split_lon,\n",
    "    ymin=points[:, 1].min(),\n",
    "    ymax=points[:, 1].max(),\n",
    "    color=\"black\",\n",
    "    linewidth=4,\n",
    ")\n",
    "plt.axis(\"off\")\n",
    "plt.show()\n",
    "plt.close()"
   ]
  },
  {
   "cell_type": "code",
   "execution_count": null,
   "id": "e1cd8fb2",
   "metadata": {},
   "outputs": [],
   "source": [
    "ridge_cv = RidgeCV(cv=5, alphas=np.logspace(-8, 8, base=10, num=17))\n",
    "ridge_cv.fit(x_train, y_train)"
   ]
  },
  {
   "cell_type": "markdown",
   "id": "57cd5663",
   "metadata": {},
   "source": [
    "We can see that our validation performance is similar to that of the random split:"
   ]
  },
  {
   "cell_type": "code",
   "execution_count": null,
   "id": "158f75c0",
   "metadata": {},
   "outputs": [],
   "source": [
    "print(f\"Validation R2 performance {ridge_cv.best_score_:0.2f}\")"
   ]
  },
  {
   "cell_type": "markdown",
   "id": "cdbe52f0",
   "metadata": {},
   "source": [
    "However, our _test_ R$^2$ is much lower, 0.13 compared to 0.55. This shows that the linear model trained on **MOSAIKS** features and population data sampled from the _western_ US is not able to predict the population density in the _eastern_ US as well. However, from the scatter plot we can see that the predictions aren't random which warrants further investigation..."
   ]
  },
  {
   "cell_type": "code",
   "execution_count": null,
   "id": "b1fe36e4",
   "metadata": {},
   "outputs": [],
   "source": [
    "y_pred = np.maximum(ridge_cv.predict(x_test), 0)\n",
    "\n",
    "plt.figure()\n",
    "plt.scatter(y_pred, y_test, alpha=0.2, s=4)\n",
    "plt.xlabel(\"Predicted\", fontsize=15)\n",
    "plt.ylabel(\"Ground Truth\", fontsize=15)\n",
    "plt.title(r\"$\\log_{10}(1 + $people$/$km$^2)$\", fontsize=15)\n",
    "plt.xticks(fontsize=14)\n",
    "plt.yticks(fontsize=14)\n",
    "\n",
    "plt.xlim([0, 6])\n",
    "plt.ylim([0, 6])\n",
    "\n",
    "plt.text(\n",
    "    0.5,\n",
    "    5,\n",
    "    s=\"R$^2$ = %0.2f\" % (r2_score(y_test, y_pred)),\n",
    "    fontsize=15,\n",
    "    fontweight=\"bold\",\n",
    ")\n",
    "m, b = np.polyfit(y_pred, y_test, 1)\n",
    "plt.plot(y_pred, m * y_pred + b, color=\"black\")\n",
    "plt.gca().spines.right.set_visible(False)\n",
    "plt.gca().spines.top.set_visible(False)\n",
    "\n",
    "plt.show()\n",
    "plt.close()"
   ]
  },
  {
   "cell_type": "markdown",
   "id": "430151e7",
   "metadata": {},
   "source": [
    "The rank-order correlation is still high, 0.61 compared to 0.66 from the random split. This shows that the model is still able to correctly _order_ the density of input points, however is wrong about the magnitude of the population densities."
   ]
  },
  {
   "cell_type": "code",
   "execution_count": null,
   "id": "3dc6aa83",
   "metadata": {},
   "outputs": [],
   "source": [
    "spearmanr(y_test, y_pred)"
   ]
  },
  {
   "cell_type": "markdown",
   "id": "5e0e2e0b",
   "metadata": {},
   "source": [
    "This makes sense when we compare the distributions of population density of points from the western US to that of the eastern US -- the label distributions are completely different. The distribution of **MOSAIKS** features likely doesn't change, however the mapping between these features and population density definitely varies with space."
   ]
  },
  {
   "cell_type": "code",
   "execution_count": null,
   "id": "0bc15f54",
   "metadata": {},
   "outputs": [],
   "source": [
    "bins = np.linspace(0, 5, num=50)\n",
    "\n",
    "plt.figure()\n",
    "plt.hist(y_train, bins=bins)\n",
    "plt.ylabel(\"Frequency\")\n",
    "plt.xlabel(r\"$\\log_{10}(1 + $people$/$km$^2)$\")\n",
    "plt.title(\"Train points -- western US\")\n",
    "plt.gca().spines.right.set_visible(False)\n",
    "plt.gca().spines.top.set_visible(False)\n",
    "plt.show()\n",
    "plt.close()\n",
    "\n",
    "plt.figure()\n",
    "plt.hist(y_test, bins=bins)\n",
    "plt.ylabel(\"Frequency\")\n",
    "plt.xlabel(r\"$\\log_{10}(1 + $people$/$km$^2)$\")\n",
    "plt.title(\"Test points -- eastern US\")\n",
    "plt.gca().spines.right.set_visible(False)\n",
    "plt.gca().spines.top.set_visible(False)\n",
    "plt.show()\n",
    "plt.close()"
   ]
  },
  {
   "cell_type": "markdown",
   "id": "67397753",
   "metadata": {},
   "source": [
    "Estimating the _relative_ population density of points from the corresponding imagery is still useful in a wide variety of applications, e.g. in disaster reponse settings it might make sense to allocate the most resources to the most densely populated locations, where the precise density isn't as important."
   ]
  }
 ],
 "metadata": {
  "kernelspec": {
   "display_name": "Python 3 (ipykernel)",
   "language": "python",
   "name": "python3"
  },
  "language_info": {
   "codemirror_mode": {
    "name": "ipython",
    "version": 3
   },
   "file_extension": ".py",
   "mimetype": "text/x-python",
   "name": "python",
   "nbconvert_exporter": "python",
   "pygments_lexer": "ipython3",
   "version": "3.8.12"
  }
 },
 "nbformat": 4,
 "nbformat_minor": 5
}
