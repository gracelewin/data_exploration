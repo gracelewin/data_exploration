{
 "cells": [
  {
   "cell_type": "code",
   "execution_count": null,
   "id": "6bdffdc2-6e9b-4578-8246-82ae168a09da",
   "metadata": {},
   "outputs": [],
   "source": [
    "import ee\n",
    "import geemap\n",
    "import os\n",
    "import glob\n",
    "from IPython.display import Image"
   ]
  },
  {
   "cell_type": "code",
   "execution_count": null,
   "id": "42ea38d0-e135-429d-b638-c9f48361b808",
   "metadata": {},
   "outputs": [],
   "source": [
    "ee.Initialize()"
   ]
  },
  {
   "cell_type": "markdown",
   "id": "610384fc-2ae9-4765-9678-9c4b46d77ded",
   "metadata": {},
   "source": [
    "[country codes](https://en.wikipedia.org/wiki/List_of_FIPS_country_codes)"
   ]
  },
  {
   "cell_type": "code",
   "execution_count": null,
   "id": "35666d72-bfb1-40ff-b8c9-71e9096087ee",
   "metadata": {},
   "outputs": [],
   "source": [
    "country_code = \"NI\"\n",
    "african_bb = ee.Geometry.Polygon([[\n",
    "    [-19.698368046353494, 38.1446395611524],\n",
    "    [-19.698368046353494, -36.16300755581617],\n",
    "    [53.229366328646506, -36.16300755581617],\n",
    "    [53.229366328646506, 38.1446395611524]\n",
    "]])\n",
    "bands = ['B1', 'B2', 'B3', 'B4', 'B5', 'B6', 'B7']\n",
    "date_start = '1985-01-01' \n",
    "date_end = '2012-12-31'"
   ]
  },
  {
   "cell_type": "code",
   "execution_count": null,
   "id": "e9047af9-665f-4eb0-b0a9-813051b94991",
   "metadata": {},
   "outputs": [],
   "source": [
    "# adm2 = ee.FeatureCollection('FAO/GAUL/2015/level2').filter(ee.Filter.eq('wld_rgn', 'Africa'))\n",
    "# mask = ee.FeatureCollection('USDOS/LSIB_SIMPLE/2017').filter(ee.Filter.eq('wld_rgn', 'Africa'))\n",
    "# land_8 = ee.ImageCollection('LANDSAT/LC08/C01/T1_TOA')"
   ]
  },
  {
   "cell_type": "markdown",
   "id": "4f5b430a-bfa4-4841-8ed4-0c0a71753c0e",
   "metadata": {},
   "source": [
    "## [Large Scale International Boundary Polygons](https://developers.google.com/earth-engine/datasets/catalog/USDOS_LSIB_SIMPLE_2017?hl=en)"
   ]
  },
  {
   "cell_type": "code",
   "execution_count": null,
   "id": "f8ce3933-7fb0-4138-94f3-00ec6db127c9",
   "metadata": {},
   "outputs": [],
   "source": [
    "mask = ee.FeatureCollection('USDOS/LSIB_SIMPLE/2017')\n",
    "mask = mask.filter(ee.Filter.eq('country_co', country_code))"
   ]
  },
  {
   "cell_type": "markdown",
   "id": "4d30e4f0-3841-4c41-9163-f4d4f3fbe7b4",
   "metadata": {},
   "source": [
    "## [Landsat 5 collection 1, tier 1](https://developers.google.com/earth-engine/datasets/catalog/LANDSAT_LT05_C01_T1_TOA#terms-of-use)"
   ]
  },
  {
   "cell_type": "code",
   "execution_count": null,
   "id": "a9b46f17-2453-47ef-b109-3b1fa5b7c931",
   "metadata": {},
   "outputs": [],
   "source": [
    "raw_ic = ee.ImageCollection('LANDSAT/LT05/C01/T1')\n",
    "raw_ic = raw_ic.filterDate(date_start, date_end)\n",
    "raw_ic = raw_ic.select(bands)"
   ]
  },
  {
   "cell_type": "code",
   "execution_count": null,
   "id": "4bab145d-aea1-4853-bf0f-b9274d14c658",
   "metadata": {},
   "outputs": [],
   "source": [
    "# nigeria = raw_ic.filterBounds(mask)  # this gives opposite of what I want"
   ]
  },
  {
   "cell_type": "code",
   "execution_count": null,
   "id": "886c9cc7-0408-4ee2-a169-f088a47e3098",
   "metadata": {},
   "outputs": [],
   "source": [
    "nigeria = raw_ic.filter('CLOUD_COVER < 20').mean().clip(mask)"
   ]
  },
  {
   "cell_type": "code",
   "execution_count": null,
   "id": "868bc44a-b938-48d5-af87-0cc5171cb833",
   "metadata": {},
   "outputs": [],
   "source": [
    "red = nigeria.select('B4')\n",
    "nir = nigeria.select('B5')\n",
    "ndvi=(nir.subtract(red)).divide((nir.add(red))).rename('NDVI')"
   ]
  },
  {
   "cell_type": "code",
   "execution_count": null,
   "id": "8eb22511-51cf-49d0-a37e-fdf194594500",
   "metadata": {},
   "outputs": [],
   "source": [
    "ndviParams = {'min': -1, \n",
    "              'max': 1, \n",
    "              'palette': ['blue', 'white', 'green']\n",
    "             }"
   ]
  },
  {
   "cell_type": "code",
   "execution_count": null,
   "id": "9f762af2-1961-4690-a55b-fe994444bafd",
   "metadata": {},
   "outputs": [],
   "source": [
    "roi = mask.geometry()"
   ]
  },
  {
   "cell_type": "code",
   "execution_count": null,
   "id": "64e687fc-fbb8-4481-a859-18bf5f4ca646",
   "metadata": {},
   "outputs": [],
   "source": [
    "url = ndvi.getThumbUrl({\n",
    "    'min': -1, \n",
    "    'max': 1, \n",
    "    'dimensions': 512,\n",
    "    'region': roi,\n",
    "    'palette': ['blue', 'white', 'green']\n",
    "})\n",
    "Image(url=url, embed=True, format = 'png')"
   ]
  },
  {
   "cell_type": "code",
   "execution_count": null,
   "id": "baf89157-6e77-48d4-90e3-ccf9efcb9f05",
   "metadata": {},
   "outputs": [],
   "source": []
  }
 ],
 "metadata": {
  "kernelspec": {
   "display_name": "Python 3 (ipykernel)",
   "language": "python",
   "name": "python3"
  },
  "language_info": {
   "codemirror_mode": {
    "name": "ipython",
    "version": 3
   },
   "file_extension": ".py",
   "mimetype": "text/x-python",
   "name": "python",
   "nbconvert_exporter": "python",
   "pygments_lexer": "ipython3",
   "version": "3.9.7"
  }
 },
 "nbformat": 4,
 "nbformat_minor": 5
}
